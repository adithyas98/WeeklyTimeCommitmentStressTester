{
 "cells": [
  {
   "cell_type": "markdown",
   "metadata": {},
   "source": [
    "<center> <h1> Weekly Time Commitment Stress Tester </h1> </center>\n",
    "\n",
    "This is kind of an overkill for something that can be simply done through the use of some simple back of the napkin calculations, but I had some time and felt like coding out a Monte Carlo Simulation fort he first time(I have done some on excel spreadsheets but not in python). This is meant to be reused and adapted for various needs and times when you need to make sure you aren't overextending yourself.\n",
    "\n",
    "## Motivation\n",
    "\n",
    "As an incoming student at Columbia University, and geek, I have a tendency to be interested in doing and pursuing too many things(My first two years at Colby College is a testament to this), so to prevent this sort of situation from happening again, I wanted to create this simple script where i can input different things I am interested in along with a range of time that I plan on working(which would come in the form of an upper bound. lower bound, and most likely). This would then allow me to use the law of large numbers to get a sense of what type of activities I can take on. However, I must come up with good assumptions since that will be the driving force of the simulation of the semester.(Remember:Garbage in Garbage Out)\n",
    "\n",
    "\n",
    "### The simulation will run below the initial code needed to set it up and can be found below\n",
    "\n",
    "This is also where you can input the csv file that you want the program to read\n"
   ]
  },
  {
   "cell_type": "code",
   "execution_count": 7,
   "metadata": {
    "scrolled": false
   },
   "outputs": [],
   "source": [
    "#need to import some data science packages\n",
    "import random as rand\n",
    "import time\n",
    "import numpy as np\n",
    "import pandas as pd\n",
    "import matplotlib.pyplot as plt\n",
    "import seaborn as sns\n",
    "from scipy.stats import norm # We will be using the ppf function to do the simulations\n",
    "%matplotlib inline \n",
    "#This is to make sure the graphs print out in line"
   ]
  },
  {
   "cell_type": "markdown",
   "metadata": {},
   "source": [
    "## Activity Classes\n",
    "\n",
    "This class will hold all the information, run the simulation , as well as return back the information we need to visualize the results and reach our conclusions\n",
    "\n"
   ]
  },
  {
   "cell_type": "code",
   "execution_count": 8,
   "metadata": {
    "scrolled": false
   },
   "outputs": [],
   "source": [
    "class Activity:\n",
    "    #some attributes we want the class to hold\n",
    "    average=0.0\n",
    "    stdev=0.0\n",
    "    weekhrs=[]#this list will hold the results on a per week basis\n",
    "    activityName=\"\"#This will hold the activity's name for future reference\n",
    "    upperBound=0.0\n",
    "    \n",
    "    def __init__(self,lowerBound,mostLikely,upperBound,activityName):\n",
    "        #Initialize with three inputs and then calculate the rest\n",
    "        self.upperBound=upperBound\n",
    "        #This is the base formula used when doing a three point simulation like being done here, but this \n",
    "        #can be changed to skew the output of the inverse normal cdf\n",
    "        self.average=(lowerBound+4*mostLikely+upperBound)/6.0 #6.0 since we want to make the average a float\n",
    "        self.stdev=(upperBound-lowerBound)/6.0\n",
    "        \n",
    "        self.activityName=activityName#Set the activity's name as a string\n",
    "    def getMax(self):\n",
    "        #This method will return back the max number of hours you have estimated\n",
    "        return self.upperBound\n",
    "        \n",
    "    #Create a method that will simulate the next week\n",
    "    def oneWeekStep(self):\n",
    "        step=rand.normalvariate(self.average,self.stdev)\n",
    "        self.weekhrs.append(step)#We will need to use a seed based on the time module                                                   #to ensure we are getting trully random results\n",
    "        return step\n",
    "    \n",
    "    #getter for the weekhrs list\n",
    "    def getWeekhrs(self):\n",
    "        return self.weekhrs\n",
    "    \n",
    "    #Create a string function\n",
    "    def __str__(self):\n",
    "        return str(self.activityName)\n",
    "        \n",
    "#Test the class functions primary methods      \n",
    "# ac=Activity(5,10,20,\"test\")\n",
    "# ac.oneWeekStep()\n",
    "# ac.oneWeekStep()\n",
    "# print(ac.oneWeekStep())\n",
    "# print(ac.getWeekhrs())\n",
    "# print(ac)\n",
    "    \n",
    "        "
   ]
  },
  {
   "cell_type": "markdown",
   "metadata": {},
   "source": [
    "## Input the General Data\n",
    "\n",
    "We will define a method below that will accept all the data points we need such as number of weeks, number of hours per week you can dedicate to activities(to exclude sleeping, eating, and other things), and other things like that. \n",
    "\n",
    "\n",
    "### Parameters\n",
    "For all of these parameters please enter them in decimal format\n",
    "- sleepHours:This is the number of hours you want to sleep per day\n",
    "- groomHours:This is the number of hours you spend grooming(Shower,Brushing teeth, etc.) per day\n",
    "- eatHours:This is the number of hours you spend eating food per day\n",
    "- errandHours:This is supposed to count the number of hours you spend during errands per week\n",
    "- commuteHours:This is how much time you spend commuting per day\n",
    "- funHours:This is a measure per week of how much time you want to give yourself per week\n",
    "- otherHours:This is a catchall to make sure nothing is missed and is measured on a per week basis\n",
    "- numSim:This represents the number of weeks you want to include in your simulation(Generally,the Larger the number the better)\n",
    "- exerciseHours: This represents the number of hours you wish to spend working out\n",
    "\n",
    "Make sure the output of this cell makes sense to you!\n",
    "\n"
   ]
  },
  {
   "cell_type": "code",
   "execution_count": 9,
   "metadata": {
    "scrolled": false
   },
   "outputs": [
    {
     "name": "stdout",
     "output_type": "stream",
     "text": [
      "You are currently allocating 87.833333 hours to non activities which is 52.28% of your total hours per week\n",
      "\n",
      "\n",
      "This leaves you with 80.166667 hours for activities\n"
     ]
    }
   ],
   "source": [
    "#############################\n",
    "#Input your preferences here#\n",
    "########Hours per Day########\n",
    "sleepHours=8\n",
    "groomHours=1\n",
    "eatHours=1.5\n",
    "commuteHours=0.0\n",
    "exerciseHours=0.75\n",
    "############################\n",
    "#######Hours per week#######\n",
    "errandHours=2\n",
    "funHours=10\n",
    "otherHours=2.333333\n",
    "#############################\n",
    "#############Other###########\n",
    "numSim=1000000\n",
    "#############################\n",
    "hoursPerWeek=7*24\n",
    "#Create a list of the above variables\n",
    "hourLimits=((sleepHours+groomHours+eatHours+commuteHours)*7)+errandHours+funHours+otherHours\n",
    "percentWeek=round(hourLimits/hoursPerWeek *100,2)\n",
    "print(\"You are currently allocating {} hours to non activities which is {}% of your total hours per week\".format(hourLimits\n",
    "                                                                                                                ,percentWeek))\n",
    "print(\"\\n\")\n",
    "print(\"This leaves you with {} hours for activities\".format(hoursPerWeek-hourLimits))"
   ]
  },
  {
   "cell_type": "markdown",
   "metadata": {},
   "source": [
    "## Input Activity Specific Data\n",
    "\n",
    "We will now input have a place to input the activity specific data from a csv file into the class we have built above. To enter this data correctly please enter the name of the csv file that contains the data for each of your activities in the following format.\n",
    "Note: Make sure the csv file is in the same directory as the jupyter notebook. If not include a the whole address to the file. \n",
    "\n",
    "| Activity Name | Lower Bound Hours Per Week | Most Likely Hours Per Week | Upper Bound Hours Per Week |\n",
    "|---------------|----------------------------|----------------------------|----------------------------|\n",
    "| Activity 1    | 2                          | 5                          | 8                          |\n",
    "| Activity 2    | 2                          | 5                          | 8                          |\n",
    "| ...           | ...                        | ...                        | ...                        |\n",
    "\n",
    "### After Entering the data click run all under the Kernel Tab\n"
   ]
  },
  {
   "cell_type": "code",
   "execution_count": 10,
   "metadata": {
    "scrolled": true
   },
   "outputs": [],
   "source": [
    "#########################################\n",
    "########Input CSV in a list here#########\n",
    "csvList=[\"Fall2020.csv\"]\n",
    "#########################################\n",
    "data=[]\n",
    "for csv in csvList:\n",
    "    dataframe=pd.read_csv(csv)\n",
    "    data.append(dataframe)\n"
   ]
  },
  {
   "cell_type": "markdown",
   "metadata": {},
   "source": [
    "# Simulation Class\n",
    "Now we need to run the simulation for the number of weeks you have specified. For this we can create a class that will make it much easier to be able to run simulations with different the activity combinations you have entered above."
   ]
  },
  {
   "cell_type": "code",
   "execution_count": 11,
   "metadata": {
    "scrolled": false
   },
   "outputs": [],
   "source": [
    "class Simulation:\n",
    "    activities=[] #holds a list of activities\n",
    "    numSim=0#this will hold the number of simulations we want to run(of the whole semester)\n",
    "    hoursPerWeek=7*24 #7 days times 24 hours\n",
    "    nonActivityHours=0.0#this will hold nonactivity hours\n",
    "    results=[]#This will be a 2D array that will hold results of multiple semester simulations\n",
    "    \n",
    "    #Create a constructor method\n",
    "    def __init__(self,nonactivityHours,numSim,activities):\n",
    "        self.nonActivityHours=nonactivityHours\n",
    "        self.numSim=numSim\n",
    "        self.activities=activities\n",
    "    \n",
    "    def simulate(self):\n",
    "        for week in range(1,self.numSim):\n",
    "            rand.seed(time.time())\n",
    "            #we need to call each of the activities and have them take one step\n",
    "            total=0\n",
    "            for ac in self.activities:\n",
    "                week=ac.oneWeekStep()\n",
    "                total += week\n",
    "                #now we will sum the results of all the activities per week\n",
    "            self.results.append(total+self.nonActivityHours)\n",
    "    def graph(self):\n",
    "        #this method will graph a histogram and show the point where the number of hours is above the limit of 168\n",
    "        print(\"This is for the Simulation with {}\".format(self.toString()))\n",
    "        print(self.percentAbove())\n",
    "        print(self.getUpperBound())\n",
    "        plt.figure(figsize=[15,8])\n",
    "        sns.distplot(self.results,kde=False)\n",
    "        plt.ylabel(\"Frequency\")\n",
    "        plt.xlabel(\"Hours Per Week\")\n",
    "        plt.axvline(hoursPerWeek,color='red')\n",
    "    \n",
    "    #Create an str method that will print out the activities in the simulation\n",
    "    def toString(self):\n",
    "        output=\"The activities in this Simulation are:\"\n",
    "        for ac in self.activities:\n",
    "            output+=str(ac)+\",\"\n",
    "        return output\n",
    "            \n",
    "    #Create a function that will return text containing the percentage of time above the total number of hours\n",
    "    def percentAbove(self):\n",
    "        countAbove=0\n",
    "        for x in self.results:\n",
    "            if x > self.hoursPerWeek:\n",
    "                countAbove+=1\n",
    "        return \"{}% of the weeks simulated were above {} hours per week\".format(((countAbove/(len(self.results)+1)*100))\n",
    "                                                                                ,self.hoursPerWeek)\n",
    "    def getUpperBound(self):\n",
    "        maxhours=0.0#will hold the maximum hours of all the activities entered\n",
    "        for ac in self.activities:\n",
    "            maxhours += ac.getMax()\n",
    "        return \"The worst case scenario is {} hours for your activities\".format(maxhours)\n",
    "    #Now for a cohesive method that simply outputs what we need\n",
    "    def output(self):\n",
    "        self.simulate()#We want to run the Simulation\n",
    "        self.graph()\n"
   ]
  },
  {
   "cell_type": "markdown",
   "metadata": {},
   "source": [
    "# Run the Simulation!\n",
    "Here we will run the simulation and it will output histograms."
   ]
  },
  {
   "cell_type": "code",
   "execution_count": 12,
   "metadata": {
    "scrolled": false
   },
   "outputs": [
    {
     "name": "stdout",
     "output_type": "stream",
     "text": [
      "This is for the Simulation with The activities in this Simulation are:BME LAB 1,BME 1,Quant Phys,Intro EE,Biostat,FSAE,CSI,IEEE EBMS,CUCyber,Research,Instrument,Job,Internship Search,\n",
      "69.762% of the weeks simulated were above 168 hours per week\n",
      "The worst case scenario is 109.0 hours for your activities\n",
      "The total number of hours you have dedicated to non activities are:87.833333 hours\n",
      "\n",
      "\n"
     ]
    },
    {
     "name": "stderr",
     "output_type": "stream",
     "text": [
      "C:\\Users\\adish\\Anaconda3\\lib\\site-packages\\matplotlib\\axes\\_axes.py:6462: UserWarning: The 'normed' kwarg is deprecated, and has been replaced by the 'density' kwarg.\n",
      "  warnings.warn(\"The 'normed' kwarg is deprecated, and has been \"\n"
     ]
    },
    {
     "data": {
      "image/png": "[encoded data removed]",
      "text/plain": [
       "<Figure size 1080x576 with 1 Axes>"
      ]
     },
     "metadata": {
      "needs_background": "light"
     },
     "output_type": "display_data"
    }
   ],
   "source": [
    "for df in data:\n",
    "    #We will call each of these dataframes into a simulation class and then run all of the simulations\n",
    "    activities=[]\n",
    "    for index,row in df.iterrows():\n",
    "        activities.append(Activity(row[\"Lower Bound Hours Per Week\"],row[\"Most Likely Hours Per Week\"],\n",
    "                          row[\"Upper Bound Hours Per Week\"],row[\"Activity Name\"]))\n",
    "    sim=Simulation(hourLimits,numSim,activities)\n",
    "    sim.output()\n",
    "    print(\"The total number of hours you have dedicated to non activities are:{} hours\".format(hourLimits))\n",
    "    print(\"\\n\")\n"
   ]
  },
  {
   "cell_type": "markdown",
   "metadata": {},
   "source": [
    "# Done!\n",
    "Now you can take a look at what this means. The line above the graph give you the percentage of the weeks simulated that went above the total number of hours in a week:168. This limit is shown the graph using the red line. All of the blue mass to the left of the limit represents the number of weeks that are within the limit. You can use this histogram to to make decisions on what you should end up doing. Feel free to use the feature where you can enter in different combinations for CSV and see what happens to your graphs. Also, make sure you are making reasonable assumptions before running the simulation and understand the context that those assumptions put the results of the simulation under. Remember \"Garbage in Garbage Out\"\n",
    "\n",
    "In my case, I think the assumptions I have made are the worst case scenario and therefore having a distribution that looks like the one I have above would actually work well"
   ]
  }
 ],
 "metadata": {
  "kernelspec": {
   "display_name": "Python 3",
   "language": "python",
   "name": "python3"
  },
  "language_info": {
   "codemirror_mode": {
    "name": "ipython",
    "version": 3
   },
   "file_extension": ".py",
   "mimetype": "text/x-python",
   "name": "python",
   "nbconvert_exporter": "python",
   "pygments_lexer": "ipython3",
   "version": "3.6.4"
  },
  "latex_envs": {
   "LaTeX_envs_menu_present": true,
   "autoclose": true,
   "autocomplete": true,
   "bibliofile": "biblio.bib",
   "cite_by": "apalike",
   "current_citInitial": 1,
   "eqLabelWithNumbers": true,
   "eqNumInitial": 1,
   "hotkeys": {
    "equation": "Ctrl-E",
    "itemize": "Ctrl-I"
   },
   "labels_anchors": false,
   "latex_user_defs": false,
   "report_style_numbering": false,
   "user_envs_cfg": false
  }
 },
 "nbformat": 4,
 "nbformat_minor": 2
}
